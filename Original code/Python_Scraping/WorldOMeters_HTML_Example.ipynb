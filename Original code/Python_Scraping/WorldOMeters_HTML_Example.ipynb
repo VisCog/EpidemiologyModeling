{
 "cells": [
  {
   "cell_type": "code",
   "execution_count": 1,
   "metadata": {
    "collapsed": true
   },
   "outputs": [],
   "source": [
    "import requests # API / webpage request queries \n",
    "import pandas as pd # nice data frames, import and export\n",
    "from bs4 import BeautifulSoup # HTML parser\n",
    "import re # regular expressions\n",
    "from datetime import datetime"
   ]
  },
  {
   "cell_type": "markdown",
   "metadata": {},
   "source": [
    "Pulled data from [Worldometer](https://www.worldometers.info/coronavirus/). "
   ]
  },
  {
   "cell_type": "code",
   "execution_count": 2,
   "metadata": {
    "collapsed": false
   },
   "outputs": [],
   "source": [
    "url = \"https://www.worldometers.info/coronavirus/\"\n",
    "webpage = requests.get(url)\n",
    "html = BeautifulSoup(webpage.content, \"html.parser\")"
   ]
  },
  {
   "cell_type": "markdown",
   "metadata": {},
   "source": [
    "Downloaded webpage URL and scrapped the html"
   ]
  },
  {
   "cell_type": "code",
   "execution_count": 3,
   "metadata": {
    "collapsed": true
   },
   "outputs": [],
   "source": [
    "def extract_headers(table):\n",
    "    headers = table.select(\"thead th\")\n",
    "    for h in headers:\n",
    "        for x in h.find_all(\"br\"):\n",
    "            x.replace_with(\"_\")\n",
    "    headers = [x.get_text().lower() for x in headers]\n",
    "    clean_headers = [re.sub(\"[,\\\\\\/\\\\n].*\", \"\", x) for x in headers]\n",
    "    clean_headers = [y + \"_pop\" if re.search(\"1m\", x) else y \n",
    "                     for x, y in zip(headers, clean_headers)]\n",
    "    clean_headers[8] = \"total_cases_pop\"\n",
    "    return(clean_headers)"
   ]
  },
  {
   "cell_type": "code",
   "execution_count": 4,
   "metadata": {
    "collapsed": true
   },
   "outputs": [],
   "source": [
    "def extract_data(table): \n",
    "    headers = extract_headers(table)\n",
    "    data = [x.get_text() for x in table.select(\"td\")]\n",
    "    df = pd.DataFrame({x: data[i:len(data):len(headers)] for i,x\n",
    "                      in enumerate(headers)})\n",
    "    return(df)"
   ]
  },
  {
   "cell_type": "code",
   "execution_count": 5,
   "metadata": {
    "collapsed": false,
    "scrolled": false
   },
   "outputs": [],
   "source": [
    "tables = html.select(\".tab-content .main_table_countries_div table\")\n",
    "df = [extract_data(x) for x in tables]"
   ]
  },
  {
   "cell_type": "code",
   "execution_count": 6,
   "metadata": {
    "collapsed": false
   },
   "outputs": [],
   "source": [
    "date_str = datetime.now().strftime(\"%d%b%G_%H%M%S\");\n",
    "df[0].to_csv((\"today_%s.csv\") % date_str, index = False)\n",
    "df[1].to_csv((\"yesterday_%s.csv\") % date_str, index = False)"
   ]
  }
 ],
 "metadata": {
  "anaconda-cloud": {},
  "kernelspec": {
   "display_name": "Python [default]",
   "language": "python",
   "name": "python3"
  },
  "language_info": {
   "codemirror_mode": {
    "name": "ipython",
    "version": 3
   },
   "file_extension": ".py",
   "mimetype": "text/x-python",
   "name": "python",
   "nbconvert_exporter": "python",
   "pygments_lexer": "ipython3",
   "version": "3.5.2"
  }
 },
 "nbformat": 4,
 "nbformat_minor": 2
}
